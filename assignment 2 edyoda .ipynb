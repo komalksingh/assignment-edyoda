{
 "cells": [
  {
   "cell_type": "code",
   "execution_count": 3,
   "id": "1fa92faf",
   "metadata": {},
   "outputs": [
    {
     "name": "stdout",
     "output_type": "stream",
     "text": [
      "Input a word to reverse: edyoda\n",
      "a  \n",
      "\n",
      "d  \n",
      "\n",
      "o  \n",
      "\n",
      "y  \n",
      "\n",
      "d  \n",
      "\n",
      "e  \n",
      "\n"
     ]
    }
   ],
   "source": [
    "## write a python program that accepts a word from the user and reverse it \n",
    "\n",
    "word = input(\"Input a word to reverse: \")\n",
    "for char in range(len(word) - 1, -1, -1):\n",
    "    print(word[char] , end= \" \")\n",
    "    print(\" \\n\")"
   ]
  },
  {
   "cell_type": "code",
   "execution_count": 4,
   "id": "ce73d96b",
   "metadata": {},
   "outputs": [
    {
     "name": "stdout",
     "output_type": "stream",
     "text": [
      "1 1 2 3 5 8 13 21 34 "
     ]
    }
   ],
   "source": [
    "## write a program to get the fibonacci series between 0 to 50\n",
    "\n",
    "a = 0\n",
    "b = 1\n",
    "c = 1\n",
    "for i in range(9):\n",
    "    print(b,end=\" \")\n",
    "    a=b\n",
    "    b=c\n",
    "    c=a+b"
   ]
  },
  {
   "cell_type": "code",
   "execution_count": 5,
   "id": "4209ccdf",
   "metadata": {},
   "outputs": [
    {
     "name": "stdout",
     "output_type": "stream",
     "text": [
      "1 odd\n",
      "2 even\n",
      "3 odd\n",
      "4 even\n",
      "5 odd\n",
      "6 even\n",
      "7 odd\n",
      "8 even\n",
      "9 odd\n",
      "10 even\n"
     ]
    }
   ],
   "source": [
    "## write a python program to count the number of even and odd numbers from a series of numbers\n",
    "\n",
    "x = list(range(1,11))\n",
    "import time\n",
    "for i in x:\n",
    "    if i%2==0:\n",
    "        print(i, 'even')\n",
    "    elif i%2!=0:\n",
    "        print(i, 'odd')\n",
    "        "
   ]
  },
  {
   "cell_type": "code",
   "execution_count": null,
   "id": "4f1bd414",
   "metadata": {},
   "outputs": [],
   "source": []
  }
 ],
 "metadata": {
  "kernelspec": {
   "display_name": "Python 3 (ipykernel)",
   "language": "python",
   "name": "python3"
  },
  "language_info": {
   "codemirror_mode": {
    "name": "ipython",
    "version": 3
   },
   "file_extension": ".py",
   "mimetype": "text/x-python",
   "name": "python",
   "nbconvert_exporter": "python",
   "pygments_lexer": "ipython3",
   "version": "3.10.1"
  }
 },
 "nbformat": 4,
 "nbformat_minor": 5
}
